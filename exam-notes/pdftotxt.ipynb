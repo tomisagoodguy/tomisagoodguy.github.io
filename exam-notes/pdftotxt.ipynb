{
 "cells": [
  {
   "cell_type": "code",
   "execution_count": 1,
   "id": "245bbd0e",
   "metadata": {},
   "outputs": [
    {
     "name": "stdout",
     "output_type": "stream",
     "text": [
      "成功將 'jasper_articles_combined.pdf' 轉換為 'output_converted_text.txt'\n"
     ]
    }
   ],
   "source": [
    "import fitz  # PyMuPDF 的匯入名稱為 fitz\n",
    "\n",
    "def pdf_to_txt(pdf_path: str, txt_path: str):\n",
    "    \"\"\"\n",
    "    doc: 將指定的 PDF 檔案內容轉換並儲存為 TXT 純文字檔案。\n",
    "    \n",
    "    Args:\n",
    "        pdf_path (str): 輸入的 PDF 檔案路徑。\n",
    "        txt_path (str): 輸出的 TXT 檔案路徑。\n",
    "    \"\"\"\n",
    "    try:\n",
    "        # doc: 使用 with fitz.open() 開啟 PDF 檔案，確保處理完畢後自動關閉。\n",
    "        with fitz.open(pdf_path) as doc:\n",
    "            # doc: 初始化一個空字串，用來存放所有頁面的文字。\n",
    "            full_text = \"\"\n",
    "            \n",
    "            # doc: 逐頁讀取 PDF 內容。\n",
    "            for page_num, page in enumerate(doc):\n",
    "                # doc: 在每頁文字前加上頁碼標記，方便閱讀。\n",
    "                full_text += f\"--- PAGE {page_num + 1} ---\\n\\n\"\n",
    "                # doc: 使用 get_text() 方法提取目前頁面的純文字。\n",
    "                full_text += page.get_text()\n",
    "                full_text += \"\\n\\n\"\n",
    "            \n",
    "            # doc: 使用 with open() 將提取出的所有文字寫入指定的 TXT 檔案。\n",
    "            # 'w' 代表寫入模式，encoding='utf-8' 確保能正確處理中文字元。\n",
    "            with open(txt_path, 'w', encoding='utf-8') as txt_file:\n",
    "                txt_file.write(full_text)\n",
    "                \n",
    "        print(f\"成功將 '{pdf_path}' 轉換為 '{txt_path}'\")\n",
    "        \n",
    "    except Exception as e:\n",
    "        print(f\"轉換過程中發生錯誤: {e}\")\n",
    "\n",
    "# doc: 這是程式碼的執行進入點，當您直接執行此 .py 檔時，下方的程式碼會被執行。\n",
    "if __name__ == \"__main__\":\n",
    "    # doc: 設定您要轉換的 PDF 檔案路徑。\n",
    "    # 請將 'jasper_articles_combined.pdf' 放在與此 .py 檔相同的資料夾，或提供完整路徑。\n",
    "    input_pdf_path = 'jasper_articles_combined.pdf'\n",
    "    \n",
    "    # doc: 設定轉換後要儲存的 TXT 檔案名稱與路徑。\n",
    "    output_txt_path = 'output_converted_text.txt'\n",
    "    \n",
    "    # doc: 呼叫轉換函式。\n",
    "    pdf_to_txt(input_pdf_path, output_txt_path)"
   ]
  }
 ],
 "metadata": {
  "kernelspec": {
   "display_name": "FINLAB",
   "language": "python",
   "name": "python3"
  },
  "language_info": {
   "codemirror_mode": {
    "name": "ipython",
    "version": 3
   },
   "file_extension": ".py",
   "mimetype": "text/x-python",
   "name": "python",
   "nbconvert_exporter": "python",
   "pygments_lexer": "ipython3",
   "version": "3.10.18"
  }
 },
 "nbformat": 4,
 "nbformat_minor": 5
}
